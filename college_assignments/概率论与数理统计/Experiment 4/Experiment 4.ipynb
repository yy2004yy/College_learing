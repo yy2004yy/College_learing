{
 "cells": [
  {
   "cell_type": "markdown",
   "id": "f8a6d2e2",
   "metadata": {
    "nbgrader": {
     "grade": false,
     "locked": false,
     "solution": false
    }
   },
   "source": [
    "<font size=\"4\" style=\"color:red;\"> **IMPORTANT: ** When submitting this homework notebook, please modify only the cells that start with:</font>\n",
    "\n",
    "```python\n",
    "# modify this cell\n",
    "```"
   ]
  },
  {
   "cell_type": "markdown",
   "id": "fbd83114",
   "metadata": {},
   "source": [
    "# WenHua Honors Class ---- Probability & Statistics"
   ]
  },
  {
   "cell_type": "markdown",
   "id": "e01242a3",
   "metadata": {},
   "source": [
    "# Experiment 4"
   ]
  },
  {
   "cell_type": "markdown",
   "id": "69ae70da",
   "metadata": {},
   "source": [
    "## 1. Experimental Purposes"
   ]
  },
  {
   "cell_type": "markdown",
   "id": "d01a43cb",
   "metadata": {},
   "source": [
    "* Familiar with the central limit theorem.\n",
    "* Understand the implementation of the central limit theorem in python.\n",
    "* Know how to visualize data in different distributions."
   ]
  },
  {
   "cell_type": "markdown",
   "id": "6b684592",
   "metadata": {},
   "source": [
    "## 2. Background Information"
   ]
  },
  {
   "cell_type": "markdown",
   "id": "8354ae82",
   "metadata": {},
   "source": [
    "The Central Limit Theorem (CLT) is often referred to as one of the most important theorems, not only in probability & statistics but also in the sciences as a whole. In this lecture, we will try to understand the essence of the Central Limit Theorem with simulations in Python."
   ]
  },
  {
   "cell_type": "markdown",
   "id": "3d8bcaa1",
   "metadata": {},
   "source": [
    "### 2.1 Samples and the Sampling Distribution"
   ]
  },
  {
   "cell_type": "markdown",
   "id": "0ae078f6",
   "metadata": {},
   "source": [
    "Before we get to the theorem itself, it is first essential to understand the building blocks and the context. The main goal of **inferential statistics** is to draw inferences about a given population, using only its subset, which is called the **sample**."
   ]
  },
  {
   "cell_type": "markdown",
   "id": "49698c25",
   "metadata": {},
   "source": [
    "We do so because generally, the parameters which define the distribution of the population, such as the population mean $\\mu$ and the population variance $\\sigma^{2}$, are not known."
   ]
  },
  {
   "cell_type": "markdown",
   "id": "22597dcd",
   "metadata": {},
   "source": [
    "In such situations, a sample is typically collected in a random fashion, and the information gathered from it is then used to derive estimates for the entire population."
   ]
  },
  {
   "cell_type": "markdown",
   "id": "15ec32d9",
   "metadata": {},
   "source": [
    "The above-mentioned approach is both time-efficient and cost-effective for researchers conducting the analysis. It is important that the sample is a good representation of the population, in order to generalize the inferences drawn from the sample to the population in any meaningful way."
   ]
  },
  {
   "cell_type": "markdown",
   "id": "cea4c0a4",
   "metadata": {},
   "source": [
    "The challenge is that being a subset, the sample estimates are hence prone to error! That is, they may not reflect the population accurately."
   ]
  },
  {
   "cell_type": "markdown",
   "id": "08266215",
   "metadata": {},
   "source": [
    "For example, if we are trying to estimate the population mean ($\\mu$) using a sample mean ($\\bar x$), then depending on which observations land in the sample, we might get different estimates of the population with varying levels of errors."
   ]
  },
  {
   "cell_type": "markdown",
   "id": "c622da47",
   "metadata": {},
   "source": [
    "### 2.2 What is the Central Limit Theorem?"
   ]
  },
  {
   "cell_type": "markdown",
   "id": "c36ac6cc",
   "metadata": {},
   "source": [
    "The key point here is that the sample mean itself is a random variable, which is dependent on the sample observations."
   ]
  },
  {
   "cell_type": "markdown",
   "id": "40072c21",
   "metadata": {},
   "source": [
    "Like any other random variable in statistics, the sample mean ($\\bar x$) also has a probability distribution, which shows the probability densities for different values of the sample mean."
   ]
  },
  {
   "cell_type": "markdown",
   "id": "99141c7a",
   "metadata": {},
   "source": [
    "This distribution is often referred to as the 'sampling distribution'. The following diagram summarizes this point visually:"
   ]
  },
  {
   "cell_type": "markdown",
   "id": "f2b12eb0",
   "metadata": {},
   "source": [
    "<img style=\"width:973px;height:599px\" src=\"figs/sampling-distribution-diagram.png\">"
   ]
  },
  {
   "cell_type": "markdown",
   "id": "5b7b5730",
   "metadata": {},
   "source": [
    "The Central Limit Theorem (CLT) essentially is a statement about the nature of the sampling distribution of the sample mean under some specific condition, which we will discuss in the next section."
   ]
  },
  {
   "cell_type": "markdown",
   "id": "1fb9c8f2",
   "metadata": {},
   "source": [
    "### 2.3 Central Limit Theorem - Statement & Assumptions"
   ]
  },
  {
   "cell_type": "markdown",
   "id": "7847a0cb",
   "metadata": {},
   "source": [
    "Suppose $X$ is a random variable (not necessarily normally distributed) representing the population data, and the distribution of $X$, has a mean of $\\mu$ and standard deviation $\\sigma$. Suppose we are repeatly drawing samples of size $n$ from the above population."
   ]
  },
  {
   "cell_type": "markdown",
   "id": "068da3c4",
   "metadata": {},
   "source": [
    "Then, the Central Limit Theorem states that given a high enough sample size, the following properties hold true:\n",
    "* Sampling distribution's mean = Population mean ($\\mu$), and\n",
    "* Sampling distribution's standard deviation (standard error) = $\\sigma/\\sqrt{n}$, such that\n",
    "* for n ≥ 50, the sampling distribution tends to a normal distribution for all practical purposes."
   ]
  },
  {
   "cell_type": "markdown",
   "id": "078d4479",
   "metadata": {},
   "source": [
    "In other words, for a large $n$, "
   ]
  },
  {
   "cell_type": "markdown",
   "id": "0c1e337c",
   "metadata": {},
   "source": [
    "$$\\bar{x}\\longrightarrow\\mathbb{N}\\left(\\mu,\\frac{\\sigma}{\\sqrt{n}}\\right)$$"
   ]
  },
  {
   "cell_type": "markdown",
   "id": "d66a6a81",
   "metadata": {},
   "source": [
    "In the next section, we will try to understand the workings of the CLT with the help of some simulation excercises in Python."
   ]
  },
  {
   "cell_type": "markdown",
   "id": "30568273",
   "metadata": {},
   "source": [
    "## 3. Experimental Requirements"
   ]
  },
  {
   "cell_type": "markdown",
   "id": "c8a414ac",
   "metadata": {},
   "source": [
    "### 3.1 Demonstration of CLT in action using simulations in Python"
   ]
  },
  {
   "cell_type": "markdown",
   "id": "b105f008",
   "metadata": {},
   "source": [
    "The main point demonstrated in this section will be that for a population following any distribution, the sampling distribution (sample mean's distribution) will tend to be normally distributed for large enough sample size."
   ]
  },
  {
   "cell_type": "markdown",
   "id": "b823e941",
   "metadata": {},
   "source": [
    "We will consider two experiments and check whether the CLT holds.\n",
    "* Experiment 1 - Exponentially distributed population\n",
    "* Experiment 2 - Binomially distributed population"
   ]
  },
  {
   "cell_type": "markdown",
   "id": "36ee1c0a",
   "metadata": {},
   "source": [
    "#### 3.1.1 Experiment 1 - Exponentially distributed population"
   ]
  },
  {
   "cell_type": "markdown",
   "id": "92feaae7",
   "metadata": {},
   "source": [
    "Suppose we are dealing with a population which is exponentially distributed. Exponential distribution is a continuous distribution that is often used to model the expected time one needs to wait before the occurrence of an event."
   ]
  },
  {
   "cell_type": "markdown",
   "id": "7c05250d",
   "metadata": {},
   "source": [
    "The main parameter of exponential distribution is the 'rate' parameter $1/\\theta$, such that both the mean and the standard deviation of the distribution are given by $\\theta$."
   ]
  },
  {
   "cell_type": "markdown",
   "id": "139f6cee",
   "metadata": {},
   "source": [
    "The following represents our exponentially distributed population:"
   ]
  },
  {
   "cell_type": "markdown",
   "id": "1195fe89",
   "metadata": {},
   "source": [
    "<img style=\"float: left;width:370px;height:228px\" src=\"figs/exponentially-distributed-population.png\">"
   ]
  },
  {
   "cell_type": "markdown",
   "id": "52dc6b49",
   "metadata": {},
   "source": [
    "$f(x) = \\cases{\\frac{1}{\\theta} e^{-\\frac{x}{\\theta}} & if $x> 0$\\cr0 & \\text{otherwise}}$"
   ]
  },
  {
   "cell_type": "markdown",
   "id": "8b6f5ec6",
   "metadata": {},
   "source": [
    "We can see that the distribution of our population is far from normal! In the following code, assuming that $\\theta=4$, **please calculate the mean and the standard deviation of the population**."
   ]
  },
  {
   "cell_type": "code",
   "execution_count": 1,
   "id": "09ec54fa",
   "metadata": {},
   "outputs": [
    {
     "ename": "NameError",
     "evalue": "name 'mu' is not defined",
     "output_type": "error",
     "traceback": [
      "\u001b[1;31m---------------------------------------------------------------------------\u001b[0m",
      "\u001b[1;31mNameError\u001b[0m                                 Traceback (most recent call last)",
      "\u001b[1;32m<ipython-input-1-c2f6ce857462>\u001b[0m in \u001b[0;36m<module>\u001b[1;34m\u001b[0m\n\u001b[0;32m     25\u001b[0m \u001b[1;31m#\u001b[0m\u001b[1;33m\u001b[0m\u001b[1;33m\u001b[0m\u001b[1;33m\u001b[0m\u001b[0m\n\u001b[0;32m     26\u001b[0m \u001b[1;33m\u001b[0m\u001b[0m\n\u001b[1;32m---> 27\u001b[1;33m \u001b[0mprint\u001b[0m\u001b[1;33m(\u001b[0m\u001b[1;34m'Population mean:'\u001b[0m\u001b[1;33m,\u001b[0m \u001b[0mmu\u001b[0m\u001b[1;33m)\u001b[0m\u001b[1;33m\u001b[0m\u001b[1;33m\u001b[0m\u001b[0m\n\u001b[0m\u001b[0;32m     28\u001b[0m \u001b[0mprint\u001b[0m\u001b[1;33m(\u001b[0m\u001b[1;34m'Population standard deviation:'\u001b[0m\u001b[1;33m,\u001b[0m \u001b[0msd\u001b[0m\u001b[1;33m)\u001b[0m\u001b[1;33m\u001b[0m\u001b[1;33m\u001b[0m\u001b[0m\n\u001b[0;32m     29\u001b[0m \u001b[1;33m\u001b[0m\u001b[0m\n",
      "\u001b[1;31mNameError\u001b[0m: name 'mu' is not defined"
     ]
    }
   ],
   "source": [
    "# modify this cell\n",
    "\n",
    "# Importing necessary libraries\n",
    "import warnings\n",
    "warnings.filterwarnings('ignore')\n",
    "import pandas as pd, numpy as np\n",
    "import matplotlib.pyplot as plt\n",
    "%matplotlib inline\n",
    "import seaborn as sns\n",
    "\n",
    "\n",
    "# rate parameter for the exponentially distributed population\n",
    "theta = 4.0\n",
    "\n",
    "# Population mean (mu), representing mean by parameter theta\n",
    "\n",
    "#\n",
    "# YOUR CODE HERE\n",
    "#\n",
    "\n",
    "# Population standard deviation (sd), representing sd by parameter theta\n",
    "\n",
    "#\n",
    "# YOUR CODE HERE\n",
    "#\n",
    "\n",
    "print('Population mean:', mu)\n",
    "print('Population standard deviation:', sd)\n",
    "\n",
    "assert mu == 4.0\n",
    "assert sd == 4.0"
   ]
  },
  {
   "cell_type": "markdown",
   "id": "416a587e",
   "metadata": {},
   "source": [
    "Now we want to see how the sampling distribution looks for this population. We will consider two cases, i.e., with a small sample size ($n= 2$), and a large sample size ($n=500$)."
   ]
  },
  {
   "cell_type": "markdown",
   "id": "ab52c4d5",
   "metadata": {},
   "source": [
    "First, we will draw 50 random samples (each of size 2) from our population."
   ]
  },
  {
   "cell_type": "code",
   "execution_count": 6,
   "id": "82214d92",
   "metadata": {},
   "outputs": [
    {
     "data": {
      "text/html": [
       "<div>\n",
       "<style scoped>\n",
       "    .dataframe tbody tr th:only-of-type {\n",
       "        vertical-align: middle;\n",
       "    }\n",
       "\n",
       "    .dataframe tbody tr th {\n",
       "        vertical-align: top;\n",
       "    }\n",
       "\n",
       "    .dataframe thead th {\n",
       "        text-align: right;\n",
       "    }\n",
       "</style>\n",
       "<table border=\"1\" class=\"dataframe\">\n",
       "  <thead>\n",
       "    <tr style=\"text-align: right;\">\n",
       "      <th></th>\n",
       "      <th>sample 1</th>\n",
       "      <th>sample 2</th>\n",
       "      <th>sample 3</th>\n",
       "      <th>sample 4</th>\n",
       "      <th>sample 5</th>\n",
       "      <th>sample 6</th>\n",
       "      <th>sample 7</th>\n",
       "      <th>sample 8</th>\n",
       "      <th>sample 9</th>\n",
       "      <th>sample 10</th>\n",
       "      <th>...</th>\n",
       "      <th>sample 41</th>\n",
       "      <th>sample 42</th>\n",
       "      <th>sample 43</th>\n",
       "      <th>sample 44</th>\n",
       "      <th>sample 45</th>\n",
       "      <th>sample 46</th>\n",
       "      <th>sample 47</th>\n",
       "      <th>sample 48</th>\n",
       "      <th>sample 49</th>\n",
       "      <th>sample 50</th>\n",
       "    </tr>\n",
       "  </thead>\n",
       "  <tbody>\n",
       "    <tr>\n",
       "      <th>x1</th>\n",
       "      <td>8.024177</td>\n",
       "      <td>6.222709</td>\n",
       "      <td>5.185692</td>\n",
       "      <td>0.549427</td>\n",
       "      <td>3.903095</td>\n",
       "      <td>1.748460</td>\n",
       "      <td>0.949095</td>\n",
       "      <td>2.510593</td>\n",
       "      <td>0.280891</td>\n",
       "      <td>7.219540</td>\n",
       "      <td>...</td>\n",
       "      <td>11.115991</td>\n",
       "      <td>5.040396</td>\n",
       "      <td>2.647032</td>\n",
       "      <td>0.522443</td>\n",
       "      <td>1.487178</td>\n",
       "      <td>4.383908</td>\n",
       "      <td>1.237957</td>\n",
       "      <td>6.991844</td>\n",
       "      <td>3.229130</td>\n",
       "      <td>0.833374</td>\n",
       "    </tr>\n",
       "    <tr>\n",
       "      <th>x2</th>\n",
       "      <td>7.421022</td>\n",
       "      <td>2.717818</td>\n",
       "      <td>1.640417</td>\n",
       "      <td>2.005345</td>\n",
       "      <td>4.172409</td>\n",
       "      <td>3.042356</td>\n",
       "      <td>2.478453</td>\n",
       "      <td>3.838158</td>\n",
       "      <td>7.282206</td>\n",
       "      <td>6.737219</td>\n",
       "      <td>...</td>\n",
       "      <td>4.619410</td>\n",
       "      <td>0.990195</td>\n",
       "      <td>4.397918</td>\n",
       "      <td>1.100143</td>\n",
       "      <td>6.616865</td>\n",
       "      <td>12.723034</td>\n",
       "      <td>0.529014</td>\n",
       "      <td>6.014479</td>\n",
       "      <td>2.533806</td>\n",
       "      <td>2.566516</td>\n",
       "    </tr>\n",
       "  </tbody>\n",
       "</table>\n",
       "<p>2 rows × 50 columns</p>\n",
       "</div>"
      ],
      "text/plain": [
       "    sample 1  sample 2  sample 3  sample 4  sample 5  sample 6  sample 7  \\\n",
       "x1  8.024177  6.222709  5.185692  0.549427  3.903095  1.748460  0.949095   \n",
       "x2  7.421022  2.717818  1.640417  2.005345  4.172409  3.042356  2.478453   \n",
       "\n",
       "    sample 8  sample 9  sample 10  ...  sample 41  sample 42  sample 43  \\\n",
       "x1  2.510593  0.280891   7.219540  ...  11.115991   5.040396   2.647032   \n",
       "x2  3.838158  7.282206   6.737219  ...   4.619410   0.990195   4.397918   \n",
       "\n",
       "    sample 44  sample 45  sample 46  sample 47  sample 48  sample 49  \\\n",
       "x1   0.522443   1.487178   4.383908   1.237957   6.991844   3.229130   \n",
       "x2   1.100143   6.616865  12.723034   0.529014   6.014479   2.533806   \n",
       "\n",
       "    sample 50  \n",
       "x1   0.833374  \n",
       "x2   2.566516  \n",
       "\n",
       "[2 rows x 50 columns]"
      ]
     },
     "execution_count": 6,
     "metadata": {},
     "output_type": "execute_result"
    }
   ],
   "source": [
    "# drawing 50 random samples of size 2 from the exponentially distributed population\n",
    "sample_size = 2\n",
    "df2 = pd.DataFrame(index= ['x1', 'x2'])\n",
    "\n",
    "for i in range(1, 51):\n",
    "    exponential_sample = np.random.exponential(theta, sample_size)\n",
    "    col = f'sample {i}'\n",
    "    df2[col] = exponential_sample\n",
    "\n",
    "# Taking a peek at the samples\n",
    "df2"
   ]
  },
  {
   "cell_type": "markdown",
   "id": "105ad237",
   "metadata": {},
   "source": [
    "For each of the 50 samples, we can calculate the sample mean and plot its distribution as follows:"
   ]
  },
  {
   "cell_type": "code",
   "execution_count": 7,
   "id": "14ccac89",
   "metadata": {
    "scrolled": true
   },
   "outputs": [
    {
     "data": {
      "image/png": "[encoded data removed]",
      "text/plain": [
       "<Figure size 432x288 with 1 Axes>"
      ]
     },
     "metadata": {
      "needs_background": "light"
     },
     "output_type": "display_data"
    }
   ],
   "source": [
    "# Calculating sample means and plotting their distribution\n",
    "df2_sample_means = df2.mean()\n",
    "sns.distplot(df2_sample_means)"
   ]
  },
  {
   "cell_type": "markdown",
   "id": "1b2bbfe5",
   "metadata": {},
   "source": [
    "We can observe that even for a small sample size such as 2, the distribution of sample means looks very different from that of the exponential population, and looks more like a poor approximation of a normal distribution, with some positive skew."
   ]
  },
  {
   "cell_type": "markdown",
   "id": "de105b18",
   "metadata": {},
   "source": [
    "In case 2, we will repeat the above process, but with a much larger sample size ($n=500$):"
   ]
  },
  {
   "cell_type": "code",
   "execution_count": 15,
   "id": "3b81ccc6",
   "metadata": {},
   "outputs": [
    {
     "data": {
      "image/png": "[encoded data removed]",
      "text/plain": [
       "<Figure size 432x288 with 1 Axes>"
      ]
     },
     "metadata": {
      "needs_background": "light"
     },
     "output_type": "display_data"
    }
   ],
   "source": [
    "# modify this cell\n",
    "\n",
    "# Please refer to the previous example to draw 50 random samples of size 500\n",
    "# Tips: You can use the \"np.random.exponential\" function to implement a exponential distribution.\n",
    "\n",
    "#\n",
    "# YOUR CODE HERE\n",
    "#"
   ]
  },
  {
   "cell_type": "markdown",
   "id": "bc595ea1",
   "metadata": {},
   "source": [
    "The sampling distribution looks much more like a normal distribution now as we have sampled with a much larger sample size ($n=500$)."
   ]
  },
  {
   "cell_type": "markdown",
   "id": "a04f0b84",
   "metadata": {},
   "source": [
    "Let us now check the mean and the standard deviation of the 50 sample means:"
   ]
  },
  {
   "cell_type": "code",
   "execution_count": 32,
   "id": "1abc6952",
   "metadata": {},
   "outputs": [
    {
     "data": {
      "text/html": [
       "<div>\n",
       "<style scoped>\n",
       "    .dataframe tbody tr th:only-of-type {\n",
       "        vertical-align: middle;\n",
       "    }\n",
       "\n",
       "    .dataframe tbody tr th {\n",
       "        vertical-align: top;\n",
       "    }\n",
       "\n",
       "    .dataframe thead th {\n",
       "        text-align: right;\n",
       "    }\n",
       "</style>\n",
       "<table border=\"1\" class=\"dataframe\">\n",
       "  <thead>\n",
       "    <tr style=\"text-align: right;\">\n",
       "      <th></th>\n",
       "      <th>Sample means</th>\n",
       "    </tr>\n",
       "  </thead>\n",
       "  <tbody>\n",
       "    <tr>\n",
       "      <th>sample 1</th>\n",
       "      <td>4.122964</td>\n",
       "    </tr>\n",
       "    <tr>\n",
       "      <th>sample 2</th>\n",
       "      <td>3.804706</td>\n",
       "    </tr>\n",
       "    <tr>\n",
       "      <th>sample 3</th>\n",
       "      <td>4.161000</td>\n",
       "    </tr>\n",
       "    <tr>\n",
       "      <th>sample 4</th>\n",
       "      <td>3.707689</td>\n",
       "    </tr>\n",
       "    <tr>\n",
       "      <th>sample 5</th>\n",
       "      <td>4.079393</td>\n",
       "    </tr>\n",
       "  </tbody>\n",
       "</table>\n",
       "</div>"
      ],
      "text/plain": [
       "          Sample means\n",
       "sample 1      4.122964\n",
       "sample 2      3.804706\n",
       "sample 3      4.161000\n",
       "sample 4      3.707689\n",
       "sample 5      4.079393"
      ]
     },
     "execution_count": 32,
     "metadata": {},
     "output_type": "execute_result"
    }
   ],
   "source": [
    "#The first 5 values from the 50 sample means\n",
    "df500_sample_means.head()"
   ]
  },
  {
   "cell_type": "markdown",
   "id": "bfdebb18",
   "metadata": {},
   "source": [
    "We can observe that the mean of all the sample means is quite close to the population mean ($\\mu = 4$)."
   ]
  },
  {
   "cell_type": "markdown",
   "id": "96d149fb",
   "metadata": {},
   "source": [
    "Similarly, we can observe that the standard deviation of the 50 sample means is quite close to the value stated by the CLT, i.e., $(\\sigma/ \\sqrt{n}) = 0.178$."
   ]
  },
  {
   "cell_type": "code",
   "execution_count": null,
   "id": "28aaeeb8",
   "metadata": {},
   "outputs": [],
   "source": [
    "# modify this cell\n",
    "\n",
    "# An estimate of the standard deviation of the sampling distribution can be obtained as:\n",
    "\n",
    "#\n",
    "# YOUR CODE HERE\n",
    "#"
   ]
  },
  {
   "cell_type": "code",
   "execution_count": 43,
   "id": "e1776d1f",
   "metadata": {},
   "outputs": [
    {
     "data": {
      "text/plain": [
       "0.17888543819998318"
      ]
     },
     "execution_count": 43,
     "metadata": {},
     "output_type": "execute_result"
    }
   ],
   "source": [
    "# If you calculate correctly, the above value is very close to the value stated by the CLT, which is:\n",
    "sd/np.sqrt(sample_size)"
   ]
  },
  {
   "cell_type": "markdown",
   "id": "56fa5566",
   "metadata": {},
   "source": [
    "Thus, we observe that the mean of all sample means is very close in value to the population mean itself."
   ]
  },
  {
   "cell_type": "markdown",
   "id": "66bd97ea",
   "metadata": {},
   "source": [
    "Also, we can observe that as we increased the sample size from 2 to 500, the distribution of sample means increasingly starts resembling a normal distribution, with mean given by the population mean $\\mu$ and the standard deviation given by $(\\sigma / \\sqrt{n})$ , as stated by the Central Limit Theorem."
   ]
  },
  {
   "cell_type": "markdown",
   "id": "ae51268b",
   "metadata": {},
   "source": [
    "#### 3.2 Experiment 2 -  Binomially distributed population"
   ]
  },
  {
   "cell_type": "markdown",
   "id": "b81821ef",
   "metadata": {},
   "source": [
    "In the previous example, we knew that the population is exponentially distributed with parameter $\\theta=4$."
   ]
  },
  {
   "cell_type": "markdown",
   "id": "75b9c466",
   "metadata": {},
   "source": [
    "Now you might wonder what would happen to the sampling distribution if we had a population which followed some other distribution say, Binomial distribution for example."
   ]
  },
  {
   "cell_type": "markdown",
   "id": "d42a8142",
   "metadata": {},
   "source": [
    "*Would the sampling distribution still resemble the normal distribution for large sample sizes as stated by the CLT?*"
   ]
  },
  {
   "cell_type": "markdown",
   "id": "091045e0",
   "metadata": {},
   "source": [
    "Let's test it out. The following represents our Binomially distributed population (recall that Binomial is a discrete distribution and hence we produce the probability mass function below):"
   ]
  },
  {
   "cell_type": "markdown",
   "id": "991a3a8c",
   "metadata": {},
   "source": [
    "<img style=\"float: left;width:329px;height:243px\" src=\"figs/probability-function-clt.png\">"
   ]
  },
  {
   "cell_type": "markdown",
   "id": "9cc634b5",
   "metadata": {},
   "source": [
    "$P(x) = \\cases{\\binom k x (p)^x(1-p)^{1-x} & if $x = 0, 1, 2,..., k$ \\cr0 & \\text{otherwise}}$"
   ]
  },
  {
   "cell_type": "markdown",
   "id": "97641e9a",
   "metadata": {},
   "source": [
    "where, $0\\leq p\\leq 1$"
   ]
  },
  {
   "cell_type": "markdown",
   "id": "a278d7e3",
   "metadata": {},
   "source": [
    "As before, we follow a similar approach and plot the sampling distribution obtained with a large sample size ($n = 500$) for a Binomially distributed variable with parameters $k = 30$ and $p = 0.9$"
   ]
  },
  {
   "cell_type": "code",
   "execution_count": null,
   "id": "c013bc30",
   "metadata": {},
   "outputs": [],
   "source": [
    "# modify this cell\n",
    "\n",
    "# drawing 50 random samples of size 500 from a Binomial distribution with parameters k= 30 and p=0.9\n",
    "# Tips: You can use the \"np.random.binomial\" function to implement a binomial distribution.\n",
    "\n",
    "#\n",
    "# YOUR CODE HERE\n",
    "#"
   ]
  },
  {
   "cell_type": "markdown",
   "id": "626975d2",
   "metadata": {},
   "source": [
    "For this experiment, as we assumed that our population follows a Binomial distribution with parameters $k = 30$ and $p = 0.9$"
   ]
  },
  {
   "cell_type": "markdown",
   "id": "5f7e7328",
   "metadata": {},
   "source": [
    "Which means if CLT were to hold, the sampling distribution should be approximately normal with mean = population mean = $\\mu= 27$ and standard deviation = $\\sigma/\\sqrt{n} = 0.0734$."
   ]
  },
  {
   "cell_type": "code",
   "execution_count": null,
   "id": "cacb0e33",
   "metadata": {},
   "outputs": [],
   "source": [
    "# modify this cell\n",
    "\n",
    "# Please compute the mean of sample means. If you calculate correctly, mean of sample means is close to the population mean.\n",
    "\n",
    "#\n",
    "# YOUR CODE HERE\n",
    "#"
   ]
  },
  {
   "cell_type": "code",
   "execution_count": null,
   "id": "e98d6b93",
   "metadata": {},
   "outputs": [],
   "source": [
    "# modify this cell\n",
    "\n",
    "# Please compute the standard deviation of sample means. If you calculate correctly, standard deviation of sample means is close to population standard deviation divided by square root of sample size.\n",
    "\n",
    "#\n",
    "# YOUR CODE HERE\n",
    "#"
   ]
  },
  {
   "cell_type": "markdown",
   "id": "785e4808",
   "metadata": {},
   "source": [
    "And the CLT holds again, as can be seen in the above results."
   ]
  },
  {
   "cell_type": "markdown",
   "id": "086f3675",
   "metadata": {},
   "source": [
    "The sampling distribution for a Binomially distributed population also tends to a normal distribution with mean $\\mu$ and standard deviation $\\sigma/\\sqrt{n}$ for large sample size."
   ]
  },
  {
   "cell_type": "markdown",
   "id": "1f26673c",
   "metadata": {},
   "source": [
    "## 3.2 An Application of CLT in Investing/Trading"
   ]
  },
  {
   "cell_type": "markdown",
   "id": "ac34fa7c",
   "metadata": {},
   "source": [
    "### 3.2.1 The Challenge for Investors"
   ]
  },
  {
   "cell_type": "markdown",
   "id": "3c8e4078",
   "metadata": {},
   "source": [
    "A common challenge that an investor faces is to determine whether a stock is likely to meet her investing goals. For example, consider Jyoti, who is looking to invest in a safe stock for the next five years."
   ]
  },
  {
   "cell_type": "markdown",
   "id": "d47c7069",
   "metadata": {},
   "source": [
    "Being a risk averse investor, she would only feel comfortable to invest in a stock if it gives preferably non-negative monthly returns on average and where she can be reasonably confident that her average monthly return will not be less than -0.5%."
   ]
  },
  {
   "cell_type": "markdown",
   "id": "a3146efc",
   "metadata": {},
   "source": [
    "Jyoti is very interested in the ITC (NSE: ITC) stock, but wants to make sure that it meets her criterion. In such a case, *is there some theoretical/statistical framework which can help her to reach a conclusion about the average monthly return of the ITC stock with some confidence?*"
   ]
  },
  {
   "cell_type": "markdown",
   "id": "bb894134",
   "metadata": {},
   "source": [
    "The answer is yes! And such a statistical framework is based on the assumption of the return distribution, which in turn is based on the Central Limit Theorem (CLT)."
   ]
  },
  {
   "cell_type": "markdown",
   "id": "d4daaa0a",
   "metadata": {},
   "source": [
    "In the next section, we start conducting our analysis on the ITC stock data."
   ]
  },
  {
   "cell_type": "markdown",
   "id": "310f11bc",
   "metadata": {},
   "source": [
    "### 3.2.2 The Great Assumption of Normality in Finance"
   ]
  },
  {
   "cell_type": "markdown",
   "id": "256e5492",
   "metadata": {},
   "source": [
    "In finance models (like the Black-Scholes option pricing model), we usually assume that the price series is log-normally distributed, and so returns are normally distributed."
   ]
  },
  {
   "cell_type": "markdown",
   "id": "b3e1d9e6",
   "metadata": {},
   "source": [
    "And so for investors and traders, who use these models to invest or trade in the market, a lot depends on whether or not the assumption of normality actually holds in the markets."
   ]
  },
  {
   "cell_type": "markdown",
   "id": "485d564c",
   "metadata": {},
   "source": [
    "Let us check it out for the ITC (NSE: ITC) stock in which Jyoti is interested. To conduct the analysis, we first import some standard Python libraries and fetch the daily Close-Close ITC stock data from the yfinance library."
   ]
  },
  {
   "cell_type": "markdown",
   "id": "91f36741",
   "metadata": {},
   "source": [
    "**Please try to do a visual analysis of the distribution of daily returns.**"
   ]
  },
  {
   "cell_type": "code",
   "execution_count": 2,
   "id": "6eb831fa",
   "metadata": {},
   "outputs": [
    {
     "data": {
      "text/html": [
       "<div>\n",
       "<style scoped>\n",
       "    .dataframe tbody tr th:only-of-type {\n",
       "        vertical-align: middle;\n",
       "    }\n",
       "\n",
       "    .dataframe tbody tr th {\n",
       "        vertical-align: top;\n",
       "    }\n",
       "\n",
       "    .dataframe thead th {\n",
       "        text-align: right;\n",
       "    }\n",
       "</style>\n",
       "<table border=\"1\" class=\"dataframe\">\n",
       "  <thead>\n",
       "    <tr style=\"text-align: right;\">\n",
       "      <th></th>\n",
       "      <th>Date</th>\n",
       "      <th>Adj Close</th>\n",
       "      <th>daily_return</th>\n",
       "    </tr>\n",
       "  </thead>\n",
       "  <tbody>\n",
       "    <tr>\n",
       "      <th>1</th>\n",
       "      <td>2010/1/5</td>\n",
       "      <td>65.9113</td>\n",
       "      <td>0.009808</td>\n",
       "    </tr>\n",
       "    <tr>\n",
       "      <th>2</th>\n",
       "      <td>2010/1/6</td>\n",
       "      <td>66.0656</td>\n",
       "      <td>0.002338</td>\n",
       "    </tr>\n",
       "    <tr>\n",
       "      <th>3</th>\n",
       "      <td>2010/1/7</td>\n",
       "      <td>65.8598</td>\n",
       "      <td>-0.003120</td>\n",
       "    </tr>\n",
       "    <tr>\n",
       "      <th>4</th>\n",
       "      <td>2010/1/8</td>\n",
       "      <td>66.0013</td>\n",
       "      <td>0.002146</td>\n",
       "    </tr>\n",
       "    <tr>\n",
       "      <th>5</th>\n",
       "      <td>2010/1/11</td>\n",
       "      <td>66.0270</td>\n",
       "      <td>0.000389</td>\n",
       "    </tr>\n",
       "  </tbody>\n",
       "</table>\n",
       "</div>"
      ],
      "text/plain": [
       "        Date  Adj Close  daily_return\n",
       "1   2010/1/5    65.9113      0.009808\n",
       "2   2010/1/6    66.0656      0.002338\n",
       "3   2010/1/7    65.8598     -0.003120\n",
       "4   2010/1/8    66.0013      0.002146\n",
       "5  2010/1/11    66.0270      0.000389"
      ]
     },
     "execution_count": 2,
     "metadata": {},
     "output_type": "execute_result"
    }
   ],
   "source": [
    "# standard imports\n",
    "import pandas as pd\n",
    "import numpy as np\n",
    "import pyfolio as pf\n",
    "from IPython.core.interactiveshell import InteractiveShell\n",
    "InteractiveShell.ast_node_interactivity = \"all\"\n",
    "pd.set_option('display.max_rows', None)\n",
    "\n",
    "# Fetching the ITC stock data from yfinance library for the past 10 years\n",
    "ITC = pd.read_csv('ITC.NS.csv')\n",
    "\n",
    "daily_data = ITC.copy().round(4)\n",
    "\n",
    "# Calculating daily Log returns\n",
    "daily_data['daily_return']= np.log(daily_data['Adj Close']/daily_data['Adj Close'].shift())\n",
    "daily_data.dropna(inplace=True)\n",
    "\n",
    "# Taking a peek at the fetched data\n",
    "daily_data.head()"
   ]
  },
  {
   "cell_type": "markdown",
   "id": "55ef642f",
   "metadata": {},
   "source": [
    "Now that we have the daily log returns for ITC. **Please visualize both the returns and their distribution according to the diagrams below.**"
   ]
  },
  {
   "cell_type": "markdown",
   "id": "8215a937",
   "metadata": {},
   "source": [
    "<img style=\"float: center;width:508px;height:370px\" src=\"figs/actual-values-of-daily-log-returns-over-time-1.png\">\n",
    "<img style=\"float: center;width:469px;height:371px\" src=\"figs/distribution-of-daily-log-returns.png\">"
   ]
  },
  {
   "cell_type": "code",
   "execution_count": null,
   "id": "7acc75f1",
   "metadata": {},
   "outputs": [],
   "source": [
    "# modify this cell\n",
    "\n",
    "# Visualizing the daily log returns\n",
    "sns.set(style=\"white\", palette=\"muted\", color_codes=True)\n",
    "plt.figure(figsize=(12,5))\n",
    "\n",
    "plt.subplot(1,2,1)\n",
    "\n",
    "# Plot a simple histogram with binsize determined automatically.\n",
    "# Please add the labels of the x, y axes and titles in the figure.\n",
    "# Tips: sns.lineplot(daily_data.index,daily_data['daily_return'], color=\"r\")\n",
    "\n",
    "#\n",
    "# YOUR CODE HERE\n",
    "#\n",
    "\n",
    "plt.subplot(1,2,2)\n",
    "\n",
    "# Plot a simple histogram with binsize determined automatically.\n",
    "# Please add the labels of the x, y axes and titles in the figure.\n",
    "# Tips: sns.distplot(daily_data['daily_return'], kde=False, color=\"r\")\n",
    "\n",
    "#\n",
    "# YOUR CODE HERE\n",
    "#\n",
    "\n",
    "# Remember to use the command to visualize.\n",
    "# You can use \"plt.tight_layout()\" to make the layout more beautiful. "
   ]
  },
  {
   "cell_type": "markdown",
   "id": "c7f1b072",
   "metadata": {},
   "source": [
    "We can observe that in the ten years we are using, the daily return for ITC is centred around 0. However, there have been multiple occasions when it has breached the five percent mark on the upside and even a negative ten percent mark on the downside."
   ]
  },
  {
   "cell_type": "markdown",
   "id": "ebc315a2",
   "metadata": {},
   "source": [
    "This is what is responsible for the higher kurtosis or the fat-tails which is not the case with a normal distribution. The plot of the distribution of daily returns also looks leptokurtik."
   ]
  },
  {
   "cell_type": "markdown",
   "id": "931c7b06",
   "metadata": {},
   "source": [
    "## 3.3 More visualization exercises"
   ]
  },
  {
   "cell_type": "markdown",
   "id": "8bc99e7c",
   "metadata": {},
   "source": [
    "A continuous random variable is a random variable that represents an infinite number of outcomes. If we sample a continuous random variable $X$, the obtained samples may not cover the whole sample space. Since the sample space of a continuous distribution has infinite number of observations, to estimate the exact distribution of the random variable we need infinite number of samples. Since this is not practically possible, we can use parameterized continuous distributions to approximate the observed distribution."
   ]
  },
  {
   "cell_type": "markdown",
   "id": "954d6133",
   "metadata": {},
   "source": [
    "In this assignment we will use the [hourly weather dataset](https://www.kaggle.com/selfishgene/historical-hourly-weather-data/data) and look at the temperature recording for the city of Detroit. We will use continuous distributions we have studied to approximate the observed distributions."
   ]
  },
  {
   "cell_type": "markdown",
   "id": "90015b82",
   "metadata": {},
   "source": [
    "**Useful functions:**\n",
    "The module **scipy.stats** has an extensive number of probability distributions and useful statistical function definitions."
   ]
  },
  {
   "cell_type": "markdown",
   "id": "ad993e8f",
   "metadata": {},
   "source": [
    "For plotting the probability density of the data use the  function in the library **matplotlib.pyplot** and set the argument **density=True**. How this function estimates the probability is outlined in matplotlib library documentation."
   ]
  },
  {
   "cell_type": "code",
   "execution_count": null,
   "id": "ed768a95",
   "metadata": {},
   "outputs": [],
   "source": [
    "# modify this cell\n",
    "\n",
    "# Please plot a histogram with 100 bins using all the samples.\n",
    "# Please add the labels of the x, y axes and titles in the figure.\n",
    "\n",
    "#\n",
    "# YOUR CODE HERE\n",
    "#"
   ]
  },
  {
   "cell_type": "markdown",
   "id": "9c025d30",
   "metadata": {},
   "source": [
    "If you plot it correctly, you will get a histogram similar to the one below."
   ]
  },
  {
   "cell_type": "markdown",
   "id": "096fce99",
   "metadata": {},
   "source": [
    "<img style=\"float: left;width:393px;height:305px\" src=\"figs/histogram.png\">"
   ]
  },
  {
   "cell_type": "markdown",
   "id": "1d80220c",
   "metadata": {},
   "source": [
    "Additional credits: Create more plot from the temperature recording of different cities. For example, the 7 Day Moving Average Plot, the temparature variation of different cities in a single figure, the visualization of humidity, pressure and temperature of Detroit in a single figure. **Insert new cells for these figures**"
   ]
  },
  {
   "cell_type": "code",
   "execution_count": null,
   "id": "61a08093",
   "metadata": {},
   "outputs": [],
   "source": []
  }
 ],
 "metadata": {
  "interpreter": {
   "hash": "7ee5dac89c44de639c474de676f9bb9cb54db5c74d31ca0d36046c6bcf7c8cf1"
  },
  "kernelspec": {
   "display_name": "Python 3 (ipykernel)",
   "language": "python",
   "name": "python3"
  },
  "language_info": {
   "codemirror_mode": {
    "name": "ipython",
    "version": 3
   },
   "file_extension": ".py",
   "mimetype": "text/x-python",
   "name": "python",
   "nbconvert_exporter": "python",
   "pygments_lexer": "ipython3",
   "version": "3.7.0"
  }
 },
 "nbformat": 4,
 "nbformat_minor": 5
}
